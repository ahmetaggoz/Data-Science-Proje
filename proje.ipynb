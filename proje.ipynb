{
 "cells": [
  {
   "cell_type": "code",
   "execution_count": 1,
   "id": "eee39705-26f2-47eb-b1c9-ef85067bec87",
   "metadata": {},
   "outputs": [],
   "source": [
    "import pandas as pd\n",
    "import numpy as np\n",
    "import matplotlib.pyplot as plt\n",
    "import warnings\n",
    "\n",
    "warnings.simplefilter(action='ignore', category=FutureWarning)\n",
    "pd.options.mode.chained_assignment = None "
   ]
  },
  {
   "cell_type": "code",
   "execution_count": 4,
   "id": "376f4942-69b9-42a3-972e-37fd81648bdd",
   "metadata": {},
   "outputs": [],
   "source": [
    "konut = pd.read_csv('housing.csv')"
   ]
  },
  {
   "cell_type": "markdown",
   "id": "c8475bbb-13a1-40b4-8930-1568597ac364",
   "metadata": {},
   "source": [
    ">## Veri setimizin ilk 5 verisi."
   ]
  },
  {
   "cell_type": "code",
   "execution_count": 6,
   "id": "95b331cf-0dd5-4662-b922-d16d591ddeb3",
   "metadata": {},
   "outputs": [
    {
     "data": {
      "text/html": [
       "<div>\n",
       "<style scoped>\n",
       "    .dataframe tbody tr th:only-of-type {\n",
       "        vertical-align: middle;\n",
       "    }\n",
       "\n",
       "    .dataframe tbody tr th {\n",
       "        vertical-align: top;\n",
       "    }\n",
       "\n",
       "    .dataframe thead th {\n",
       "        text-align: right;\n",
       "    }\n",
       "</style>\n",
       "<table border=\"1\" class=\"dataframe\">\n",
       "  <thead>\n",
       "    <tr style=\"text-align: right;\">\n",
       "      <th></th>\n",
       "      <th>longitude</th>\n",
       "      <th>latitude</th>\n",
       "      <th>housing_median_age</th>\n",
       "      <th>total_rooms</th>\n",
       "      <th>total_bedrooms</th>\n",
       "      <th>population</th>\n",
       "      <th>households</th>\n",
       "      <th>median_income</th>\n",
       "      <th>median_house_value</th>\n",
       "      <th>ocean_proximity</th>\n",
       "    </tr>\n",
       "  </thead>\n",
       "  <tbody>\n",
       "    <tr>\n",
       "      <th>0</th>\n",
       "      <td>-122.23</td>\n",
       "      <td>37.88</td>\n",
       "      <td>41.0</td>\n",
       "      <td>880.0</td>\n",
       "      <td>129.0</td>\n",
       "      <td>322.0</td>\n",
       "      <td>126.0</td>\n",
       "      <td>8.3252</td>\n",
       "      <td>452600.0</td>\n",
       "      <td>NEAR BAY</td>\n",
       "    </tr>\n",
       "    <tr>\n",
       "      <th>1</th>\n",
       "      <td>-122.22</td>\n",
       "      <td>37.86</td>\n",
       "      <td>21.0</td>\n",
       "      <td>7099.0</td>\n",
       "      <td>1106.0</td>\n",
       "      <td>2401.0</td>\n",
       "      <td>1138.0</td>\n",
       "      <td>8.3014</td>\n",
       "      <td>358500.0</td>\n",
       "      <td>NEAR BAY</td>\n",
       "    </tr>\n",
       "    <tr>\n",
       "      <th>2</th>\n",
       "      <td>-122.24</td>\n",
       "      <td>37.85</td>\n",
       "      <td>52.0</td>\n",
       "      <td>1467.0</td>\n",
       "      <td>190.0</td>\n",
       "      <td>496.0</td>\n",
       "      <td>177.0</td>\n",
       "      <td>7.2574</td>\n",
       "      <td>352100.0</td>\n",
       "      <td>NEAR BAY</td>\n",
       "    </tr>\n",
       "    <tr>\n",
       "      <th>3</th>\n",
       "      <td>-122.25</td>\n",
       "      <td>37.85</td>\n",
       "      <td>52.0</td>\n",
       "      <td>1274.0</td>\n",
       "      <td>235.0</td>\n",
       "      <td>558.0</td>\n",
       "      <td>219.0</td>\n",
       "      <td>5.6431</td>\n",
       "      <td>341300.0</td>\n",
       "      <td>NEAR BAY</td>\n",
       "    </tr>\n",
       "    <tr>\n",
       "      <th>4</th>\n",
       "      <td>-122.25</td>\n",
       "      <td>37.85</td>\n",
       "      <td>52.0</td>\n",
       "      <td>1627.0</td>\n",
       "      <td>280.0</td>\n",
       "      <td>565.0</td>\n",
       "      <td>259.0</td>\n",
       "      <td>3.8462</td>\n",
       "      <td>342200.0</td>\n",
       "      <td>NEAR BAY</td>\n",
       "    </tr>\n",
       "  </tbody>\n",
       "</table>\n",
       "</div>"
      ],
      "text/plain": [
       "   longitude  latitude  housing_median_age  total_rooms  total_bedrooms  \\\n",
       "0    -122.23     37.88                41.0        880.0           129.0   \n",
       "1    -122.22     37.86                21.0       7099.0          1106.0   \n",
       "2    -122.24     37.85                52.0       1467.0           190.0   \n",
       "3    -122.25     37.85                52.0       1274.0           235.0   \n",
       "4    -122.25     37.85                52.0       1627.0           280.0   \n",
       "\n",
       "   population  households  median_income  median_house_value ocean_proximity  \n",
       "0       322.0       126.0         8.3252            452600.0        NEAR BAY  \n",
       "1      2401.0      1138.0         8.3014            358500.0        NEAR BAY  \n",
       "2       496.0       177.0         7.2574            352100.0        NEAR BAY  \n",
       "3       558.0       219.0         5.6431            341300.0        NEAR BAY  \n",
       "4       565.0       259.0         3.8462            342200.0        NEAR BAY  "
      ]
     },
     "execution_count": 6,
     "metadata": {},
     "output_type": "execute_result"
    }
   ],
   "source": [
    "konut.head() # head() komutu veri kümesinden ilk 5 satırı döndürür, bu şekilde veri kümesini net bir şekilde gözlemleyebiliriz."
   ]
  },
  {
   "cell_type": "code",
   "execution_count": 8,
   "id": "df5519d8-ee61-4436-911d-70d4d8529ce3",
   "metadata": {},
   "outputs": [
    {
     "name": "stdout",
     "output_type": "stream",
     "text": [
      "<class 'pandas.core.frame.DataFrame'>\n",
      "RangeIndex: 20640 entries, 0 to 20639\n",
      "Data columns (total 10 columns):\n",
      " #   Column              Non-Null Count  Dtype  \n",
      "---  ------              --------------  -----  \n",
      " 0   longitude           20640 non-null  float64\n",
      " 1   latitude            20640 non-null  float64\n",
      " 2   housing_median_age  20640 non-null  float64\n",
      " 3   total_rooms         20640 non-null  float64\n",
      " 4   total_bedrooms      20433 non-null  float64\n",
      " 5   population          20640 non-null  float64\n",
      " 6   households          20640 non-null  float64\n",
      " 7   median_income       20640 non-null  float64\n",
      " 8   median_house_value  20640 non-null  float64\n",
      " 9   ocean_proximity     20640 non-null  object \n",
      "dtypes: float64(9), object(1)\n",
      "memory usage: 1.6+ MB\n"
     ]
    }
   ],
   "source": [
    "konut.info() #Veri kümesi ile ilgili verinin özellikleri, veri türleri ve sayısı gibi bilgilere erişmek için info() yöntemini kullanıyoruz."
   ]
  },
  {
   "cell_type": "markdown",
   "id": "3f78043f-d92a-4204-96b2-e3dad98d00c2",
   "metadata": {},
   "source": [
    ">## Veri Görselleştirme"
   ]
  },
  {
   "cell_type": "code",
   "execution_count": 11,
   "id": "02246e7b-edaf-40f9-afbf-6623d8f0c5f3",
   "metadata": {},
   "outputs": [
    {
     "data": {
      "image/png": "[encoded data removed]",
      "text/plain": [
       "<Figure size 1440x1080 with 9 Axes>"
      ]
     },
     "metadata": {
      "needs_background": "light"
     },
     "output_type": "display_data"
    }
   ],
   "source": [
    "konut.hist(bins=50,figsize=(20,15))\n",
    "plt.show()\n",
    "\n",
    "#Verileri görselleştirme için histogramlar olarak çiziyoruz."
   ]
  },
  {
   "cell_type": "code",
   "execution_count": 13,
   "id": "81be2163-505b-468b-b032-7f9ce7303537",
   "metadata": {},
   "outputs": [
    {
     "data": {
      "text/plain": [
       "longitude               0\n",
       "latitude                0\n",
       "housing_median_age      0\n",
       "total_rooms             0\n",
       "total_bedrooms        207\n",
       "population              0\n",
       "households              0\n",
       "median_income           0\n",
       "median_house_value      0\n",
       "ocean_proximity         0\n",
       "dtype: int64"
      ]
     },
     "execution_count": 13,
     "metadata": {},
     "output_type": "execute_result"
    }
   ],
   "source": [
    "konut.isnull().sum() #Veri setimizin boş değerler içerip içermediğini kontrol etmeliyiz."
   ]
  },
  {
   "cell_type": "markdown",
   "id": "7a3a390b-d7de-4ee5-80d8-de4fb18f3426",
   "metadata": {},
   "source": [
    "> # Boş değerleri analiz etme\n",
    "\n",
    "total_bedrooms sütununda bazı boş değerler tespit ettik, bu konuda ne yapabiliriz? Fillna() yöntemini kullanarak temel olarak sayısal değerleri boş değerlerle değiştirebiliriz. Peki ya başka bir yöntem denemek istersek? Bu projede size boş verileri işlemenin alternatif bir yolunu sunmak istiyorum.\n",
    "Veri kümesinin başını gözlemlediğimizde, total_bedrooms sütunu ile hane sütunu arasında bir miktar korelasyon görüyoruz. İfademizi kanıtlayabilirsek, total_bedrooms sütunundaki eksik değerleri hane sütunundaki karşılık gelen değerlerle değiştirebiliriz. Veri setimizin sadece küçük bir bölümünü gözlemlediğimiz için ifademizden tam olarak emin olamayız.\n",
    "\n",
    "\n",
    "**İfademizi daha iyi yorumlamak için total_bedrooms sütunlarını ve evler sütunlarını görselleştirelim.**"
   ]
  },
  {
   "cell_type": "code",
   "execution_count": 14,
   "id": "f041a88a-cad1-4b01-ad4a-c9768334e40f",
   "metadata": {},
   "outputs": [
    {
     "data": {
      "image/png": "[encoded data removed]",
      "text/plain": [
       "<Figure size 1080x504 with 1 Axes>"
      ]
     },
     "metadata": {
      "needs_background": "light"
     },
     "output_type": "display_data"
    }
   ],
   "source": [
    "plt.subplots(figsize=(15, 7))\n",
    "\n",
    "plt.title('Histogram Plot: Total Bedrooms')\n",
    "\n",
    "total_bedrooms = konut['total_bedrooms']\n",
    "\n",
    "plt.hist( total_bedrooms, bins=500, alpha=0.8,\n",
    "          histtype='bar', color='steelblue',\n",
    "          edgecolor='green')\n",
    "\n",
    "plt.show()\n"
   ]
  },
  {
   "cell_type": "code",
   "execution_count": 15,
   "id": "ab5920b1-5634-426f-bf86-c676320105c4",
   "metadata": {},
   "outputs": [
    {
     "data": {
      "image/png": "[encoded data removed]",
      "text/plain": [
       "<Figure size 1080x504 with 1 Axes>"
      ]
     },
     "metadata": {
      "needs_background": "light"
     },
     "output_type": "display_data"
    }
   ],
   "source": [
    "plt.subplots(figsize=(15, 7))\n",
    "\n",
    "plt.title('Histogram Plot: Households')\n",
    "\n",
    "households = konut['households']\n",
    "\n",
    "plt.hist( households, bins=500, alpha=0.8,\n",
    "          histtype='bar', color='blue',\n",
    "          edgecolor='green')\n",
    "\n",
    "plt.show()"
   ]
  },
  {
   "cell_type": "code",
   "execution_count": 16,
   "id": "b72aebae-9546-4cc0-bd44-1dc54ef23401",
   "metadata": {},
   "outputs": [
    {
     "data": {
      "image/png": "[encoded data removed]",
      "text/plain": [
       "<Figure size 1008x432 with 2 Axes>"
      ]
     },
     "metadata": {
      "needs_background": "light"
     },
     "output_type": "display_data"
    }
   ],
   "source": [
    "plt.figure(figsize=(14, 6))\n",
    "\n",
    "plt.rcParams['axes.grid'] = False # Amortisman hatasını bastırmak için\n",
    "\n",
    "plt.title('Scatter Plot: Total Bedrooms and Households ')\n",
    "\n",
    "\n",
    "N = households.size\n",
    "colors = np.random.rand(N)\n",
    "area = np.pi * (20 * np.random.rand(N))**2 \n",
    "\n",
    "plt.xlabel('Total Bedrooms')\n",
    "plt.ylabel('Households')\n",
    "\n",
    "plt.scatter(total_bedrooms, households, s=area, c=colors, alpha=0.5, cmap='Spectral')\n",
    "plt.colorbar()\n",
    "\n",
    "plt.show()"
   ]
  },
  {
   "cell_type": "markdown",
   "id": "550944c7-7eaf-4919-80cf-ea3b6c3b3867",
   "metadata": {},
   "source": [
    "> # Toplam yatak odası ve hane halkı arasındaki ilişkiyi gözlemlemek için istatistiklerin uygulanması\n",
    "\n",
    "\n",
    "Dağılım grafiğinden gözlemlediğimiz gibi, toplam yatak odaları ve haneler arasında pozitif bir eğilim var. Bu nedenle, toplam yatak odalarının ve hanelerin aynı nitelikler olduğuna dair boş bir hipotez varsayıyoruz. Bu durumda, sıfır hipotezimizi reddetmeye çalışmalı ve toplam yatak odası ile hane halkının aynı nitelikler olmadığını varsayan alternatif bir hipotez bulmalıyız."
   ]
  },
  {
   "cell_type": "markdown",
   "id": "8ad3ab31-568b-4184-afcb-2ab2cf80b7ca",
   "metadata": {},
   "source": [
    "**Bu ilişkiyi şöyle gösterebiliriz;**\n",
    "\n",
    "- **tb** : Total bedrooms\n",
    "- **hh** : House holds\n",
    "- **Ho** : tb = hh\n",
    "- **Ha** : tb != hh"
   ]
  },
  {
   "cell_type": "markdown",
   "id": "cefba325-2a0a-49e2-be8e-6142bf6daa4f",
   "metadata": {},
   "source": [
    "> # Sıfır Hipotezini test etmenin adımları nelerdir?\n",
    "\n",
    "- Bir önem düzeyi belirtin α\n",
    "- Toplam yatak odaları ve haneler için varyansı hesaplayın\n",
    "- Toplam yatak odaları ve haneler için standart sapmayı hesaplayın\n",
    "- t-testi kullanarak p-skorunu değerlendirin\n",
    "- p-testi uygula, p-skoru anlamlılık düzeyinden büyükse boş hipotezi kabul et, değilse boş hipotezi reddet\n",
    "\n",
    "**Sıfır hipotezimizi test etmek için anlamlılık seviyemizi 0.05 olarak seçiyoruz.**"
   ]
  },
  {
   "cell_type": "code",
   "execution_count": 19,
   "id": "0c05bc7f-1592-4a74-a523-97279b213691",
   "metadata": {},
   "outputs": [
    {
     "name": "stdout",
     "output_type": "stream",
     "text": [
      "Variance of; (total bedrooms: 175784.4754402569, import scipy.stats as stats: 146176.03990028054)\n"
     ]
    }
   ],
   "source": [
    "# toplam_yatak odası ve hane sayısı farkı\n",
    "var_total_bedrooms = (np.square(total_bedrooms - total_bedrooms.mean())).sum() / (konut.shape[0] - 1)\n",
    "var_households = (np.square(households - households.mean())).sum() / (konut.shape[0] - 1)\n",
    "print(f'Variance of; (total bedrooms: {var_total_bedrooms}, import scipy.stats as stats: {var_households})')"
   ]
  },
  {
   "cell_type": "code",
   "execution_count": 20,
   "id": "3f620291-b080-4a98-9638-3ea653d6dda9",
   "metadata": {},
   "outputs": [
    {
     "name": "stdout",
     "output_type": "stream",
     "text": [
      "Standart deviation of; (total bedrooms: 419.26659232552373, households: 382.32975283161073)\n"
     ]
    }
   ],
   "source": [
    "# Toplam yatak odaları ve haneler için standart sapma\n",
    "S_total_bedrooms = np.sqrt(var_total_bedrooms)\n",
    "S_households = np.sqrt(var_households)\n",
    "print(f'Standart deviation of; (total bedrooms: {S_total_bedrooms}, households: {S_households})')"
   ]
  },
  {
   "cell_type": "code",
   "execution_count": 21,
   "id": "6e807bf5-0252-4f96-be69-c1ea8896ae34",
   "metadata": {},
   "outputs": [
    {
     "name": "stdout",
     "output_type": "stream",
     "text": [
      "t score: 9.705149779887096, p score: 3.0279724591955457e-22)\n"
     ]
    }
   ],
   "source": [
    "# scipy.stats kütüphanesini kullanarak t-testinden p skorunu değerlendirebiliriz\n",
    "import scipy.stats as stats\n",
    "\n",
    "tstat, pvalue = stats.ttest_ind_from_stats(total_bedrooms.mean(), S_total_bedrooms, total_bedrooms.size, households.mean(), S_households, households.size)\n",
    "print(f't score: {tstat}, p score: {pvalue})')"
   ]
  },
  {
   "cell_type": "markdown",
   "id": "afafa9cf-db3d-42e3-a1f0-bc0a59aa6368",
   "metadata": {},
   "source": [
    "Sonuç olarak, p değerimizin anlamlılık düzeyi α'dan (3.0279724591955457e-22 < 0.05) daha düşük olduğunu açıkça görebiliriz.\n",
    "Bu durumda boş hipotezimizi reddederiz. Yani ifademizin yanlış olduğunu söyleyebiliriz ancak iki sütun arasındaki korelasyonu da kontrol etmeliyiz."
   ]
  },
  {
   "cell_type": "markdown",
   "id": "abaaa7e3-c71f-47f8-b622-70219a4ac736",
   "metadata": {},
   "source": [
    "> # İki sütun arasındaki korelasyon."
   ]
  },
  {
   "cell_type": "code",
   "execution_count": 23,
   "id": "d12dc247-1de1-4e78-a66d-04624a75da9a",
   "metadata": {},
   "outputs": [
    {
     "data": {
      "text/plain": [
       "156246.54825893574"
      ]
     },
     "execution_count": 23,
     "metadata": {},
     "output_type": "execute_result"
    }
   ],
   "source": [
    "# total_bedrooms ve haneler arasındaki kovaryans\n",
    "cov = ((total_bedrooms -  total_bedrooms.mean()) * (households - households.mean())).sum() / (konut.shape[0] - 1)\n",
    "cov"
   ]
  },
  {
   "cell_type": "code",
   "execution_count": 24,
   "id": "7fa5b42a-4a96-4eae-a88f-624430521bd2",
   "metadata": {},
   "outputs": [
    {
     "data": {
      "text/plain": [
       "0.974724937213194"
      ]
     },
     "execution_count": 24,
     "metadata": {},
     "output_type": "execute_result"
    }
   ],
   "source": [
    "# total_bedrooms ve nüfus arasındaki korelasyon\n",
    "corr = cov / (S_total_bedrooms * S_households)\n",
    "corr"
   ]
  },
  {
   "cell_type": "code",
   "execution_count": 26,
   "id": "0aaa0da4-47dd-4b25-b69a-cd748178d66b",
   "metadata": {},
   "outputs": [
    {
     "data": {
      "text/html": [
       "<div>\n",
       "<style scoped>\n",
       "    .dataframe tbody tr th:only-of-type {\n",
       "        vertical-align: middle;\n",
       "    }\n",
       "\n",
       "    .dataframe tbody tr th {\n",
       "        vertical-align: top;\n",
       "    }\n",
       "\n",
       "    .dataframe thead th {\n",
       "        text-align: right;\n",
       "    }\n",
       "</style>\n",
       "<table border=\"1\" class=\"dataframe\">\n",
       "  <thead>\n",
       "    <tr style=\"text-align: right;\">\n",
       "      <th></th>\n",
       "      <th>total_bedrooms</th>\n",
       "      <th>households</th>\n",
       "    </tr>\n",
       "  </thead>\n",
       "  <tbody>\n",
       "    <tr>\n",
       "      <th>total_bedrooms</th>\n",
       "      <td>1.000000</td>\n",
       "      <td>0.979728</td>\n",
       "    </tr>\n",
       "    <tr>\n",
       "      <th>households</th>\n",
       "      <td>0.979728</td>\n",
       "      <td>1.000000</td>\n",
       "    </tr>\n",
       "  </tbody>\n",
       "</table>\n",
       "</div>"
      ],
      "text/plain": [
       "                total_bedrooms  households\n",
       "total_bedrooms        1.000000    0.979728\n",
       "households            0.979728    1.000000"
      ]
     },
     "execution_count": 26,
     "metadata": {},
     "output_type": "execute_result"
    }
   ],
   "source": [
    "# Veya daha kısa bir şekilde, sütunlar arasındaki korelasyonu hesaplamak için pandas korelasyon() yöntemini kullanabiliriz.\n",
    "konut[['total_bedrooms','households']].corr()"
   ]
  },
  {
   "cell_type": "markdown",
   "id": "f6f16b20-b297-49e1-9365-a03a51b46d0a",
   "metadata": {},
   "source": [
    "Dolayısıyla, iki sütun arasında güçlü bir pozitif korelasyon vardır. Sıfır hipotezimizi reddetmemize rağmen, güçlü bir korelasyon olduğu için, toplam yatak odası sütunundaki eksik değerleri hane sütunundaki karşılık gelen değerlerle değiştirebiliriz."
   ]
  },
  {
   "cell_type": "markdown",
   "id": "ddc619f4-8f68-4d2e-abb0-bbebbf910f70",
   "metadata": {},
   "source": [
    "> # Boş değerleri işleme\n",
    "\n",
    "- Öncelikle total_bedrooms sütunundaki boş değerlerin indekslerini bulmalıyız.\n",
    "- Ardından hane halkı sütununda karşılık gelen indeksleri alacağız.\n",
    "- Son olarak boş değerleri hanehalkı sütunundaki değerlerle değiştireceğiz."
   ]
  },
  {
   "cell_type": "code",
   "execution_count": 27,
   "id": "7b99d500-ec57-48fd-87f0-b989aab6613d",
   "metadata": {},
   "outputs": [
    {
     "name": "stdout",
     "output_type": "stream",
     "text": [
      "[290, 341, 538, 563, 696, 738, 1097, 1350, 1456, 1493, 1606, 2028, 2115, 2301, 2323, 2334, 2351, 2412, 2420, 2578, 2608, 2647, 2826, 3024, 3328, 3354, 3376, 3482, 3485, 3529, 3721, 3778, 3912, 3921, 3958, 4043, 4046, 4186, 4279, 4309, 4391, 4447, 4496, 4591, 4600, 4629, 4667, 4691, 4738, 4743, 4744, 4767, 4852, 5059, 5216, 5222, 5236, 5654, 5665, 5678, 5723, 5751, 5990, 6052, 6068, 6220, 6241, 6253, 6298, 6421, 6541, 6590, 6814, 6835, 6962, 7097, 7113, 7168, 7191, 7228, 7316, 7330, 7547, 7654, 7668, 7763, 7806, 8337, 8383, 8530, 8915, 9149, 9571, 9620, 9622, 9814, 9845, 9877, 9942, 9970, 10033, 10216, 10236, 10385, 10389, 10428, 10495, 10761, 10885, 10915, 11096, 11311, 11351, 11441, 11449, 11512, 11741, 12101, 12414, 12570, 12809, 13015, 13069, 13311, 13332, 13336, 13597, 13656, 13706, 13925, 13932, 13933, 14015, 14152, 14173, 14307, 14331, 14386, 14462, 14521, 14641, 14930, 14970, 14986, 15030, 15060, 15118, 15137, 15397, 15479, 15607, 15663, 15890, 15975, 16025, 16038, 16104, 16105, 16330, 16757, 16879, 16880, 16885, 17041, 17198, 17202, 17639, 17825, 17840, 17923, 17928, 17973, 18177, 18246, 18261, 18332, 18346, 18466, 18786, 18873, 18914, 19060, 19071, 19122, 19150, 19252, 19332, 19391, 19402, 19485, 19559, 19607, 19638, 19766, 19818, 19833, 19890, 19932, 19959, 20046, 20069, 20125, 20267, 20268, 20372, 20460, 20484]\n"
     ]
    }
   ],
   "source": [
    "# total_bedrooms sütunundaki boş değerlerin dizinlerini bulma ve bunları boş bir listeye ekleme\n",
    "null_indexes = []\n",
    "for (i, v) in konut[\"total_bedrooms\"].iteritems():\n",
    "    if pd.isna(v):\n",
    "        null_indexes.append(i)\n",
    "print(null_indexes)\n"
   ]
  },
  {
   "cell_type": "code",
   "execution_count": 28,
   "id": "9af597d3-0251-47c4-8ff1-51e2bb7435c9",
   "metadata": {},
   "outputs": [
    {
     "name": "stdout",
     "output_type": "stream",
     "text": [
      "[218.0, 259.0, 1273.0, 146.0, 161.0, 557.0, 600.0, 1012.0, 540.0, 499.0, 626.0, 372.0, 1260.0, 928.0, 580.0, 224.0, 292.0, 243.0, 257.0, 669.0, 266.0, 91.0, 16.0, 584.0, 310.0, 902.0, 769.0, 623.0, 1200.0, 550.0, 737.0, 1492.0, 1280.0, 403.0, 677.0, 155.0, 528.0, 294.0, 312.0, 726.0, 422.0, 439.0, 290.0, 1179.0, 682.0, 1462.0, 439.0, 516.0, 187.0, 271.0, 475.0, 292.0, 245.0, 749.0, 231.0, 476.0, 302.0, 403.0, 771.0, 441.0, 339.0, 326.0, 530.0, 328.0, 727.0, 500.0, 497.0, 403.0, 1251.0, 474.0, 257.0, 155.0, 1012.0, 622.0, 357.0, 552.0, 221.0, 120.0, 452.0, 427.0, 1196.0, 212.0, 248.0, 629.0, 269.0, 130.0, 219.0, 270.0, 951.0, 287.0, 130.0, 1483.0, 132.0, 257.0, 112.0, 428.0, 393.0, 67.0, 72.0, 439.0, 437.0, 276.0, 423.0, 762.0, 541.0, 218.0, 522.0, 183.0, 622.0, 499.0, 351.0, 242.0, 1063.0, 996.0, 606.0, 512.0, 186.0, 1176.0, 202.0, 562.0, 281.0, 627.0, 375.0, 843.0, 611.0, 358.0, 107.0, 391.0, 532.0, 158.0, 375.0, 592.0, 201.0, 539.0, 390.0, 108.0, 499.0, 426.0, 268.0, 687.0, 246.0, 108.0, 677.0, 400.0, 499.0, 682.0, 231.0, 862.0, 801.0, 214.0, 152.0, 963.0, 89.0, 647.0, 406.0, 404.0, 328.0, 354.0, 254.0, 1537.0, 156.0, 715.0, 480.0, 757.0, 603.0, 395.0, 535.0, 1438.0, 364.0, 386.0, 686.0, 893.0, 275.0, 584.0, 194.0, 1093.0, 3589.0, 482.0, 181.0, 516.0, 738.0, 275.0, 501.0, 778.0, 397.0, 1405.0, 329.0, 106.0, 596.0, 255.0, 320.0, 83.0, 262.0, 494.0, 149.0, 293.0, 254.0, 516.0, 206.0, 359.0, 93.0, 347.0, 779.0, 762.0, 669.0, 814.0, 495.0]\n"
     ]
    }
   ],
   "source": [
    "# total_bedrooms sütunundan null_indexes ile ev sütunu değerlerine erişme\n",
    "values = []\n",
    "\n",
    "for i in range(len(null_indexes)):\n",
    "    values.append(konut[\"households\"].iloc[null_indexes[i]])\n",
    "\n",
    "print(values)\n"
   ]
  },
  {
   "cell_type": "code",
   "execution_count": 29,
   "id": "82c8e073-f317-44d0-b215-0c3544e044b3",
   "metadata": {},
   "outputs": [],
   "source": [
    "# total_bedrooms sütunundaki boş değerler hane sütunundaki değerlerle değiştiriliyor.\n",
    "index = 0\n",
    "for (i, v) in konut[\"total_bedrooms\"].iteritems():\n",
    "    if pd.isna(v):\n",
    "        konut[\"total_bedrooms\"].iloc[i] = values[index]\n",
    "        index+=1"
   ]
  },
  {
   "cell_type": "code",
   "execution_count": 30,
   "id": "bd258561-73f4-40e0-8efd-d46387979e8f",
   "metadata": {},
   "outputs": [
    {
     "data": {
      "text/plain": [
       "longitude             0\n",
       "latitude              0\n",
       "housing_median_age    0\n",
       "total_rooms           0\n",
       "total_bedrooms        0\n",
       "population            0\n",
       "households            0\n",
       "median_income         0\n",
       "median_house_value    0\n",
       "ocean_proximity       0\n",
       "dtype: int64"
      ]
     },
     "execution_count": 30,
     "metadata": {},
     "output_type": "execute_result"
    }
   ],
   "source": [
    "# Boş değerlerin hala var olup olmadığını kontrol etme\n",
    "konut.isnull().sum()\n"
   ]
  },
  {
   "cell_type": "markdown",
   "id": "5f4bf827-c355-46bf-8225-3ac148ec0b02",
   "metadata": {},
   "source": [
    "> # Kategorik değerleri analiz etme\n",
    "\n",
    "Veri setimizde sadece 1 kategorik özelliğimiz var. Daha iyi analiz etmek için önce okyanusa yakınlık sütunumuzu görselleştirelim."
   ]
  },
  {
   "cell_type": "code",
   "execution_count": 31,
   "id": "7a5fb7a9-ce45-4b46-aea0-9be2e58ae779",
   "metadata": {},
   "outputs": [
    {
     "data": {
      "image/png": "[encoded data removed]",
      "text/plain": [
       "<Figure size 432x288 with 1 Axes>"
      ]
     },
     "metadata": {},
     "output_type": "display_data"
    }
   ],
   "source": [
    "# Ocean_proximity sütununun barplot gösterimi\n",
    "%matplotlib inline\n",
    "\n",
    "import seaborn as sns\n",
    "import matplotlib.pyplot as plt\n",
    "\n",
    "distance_count = konut['ocean_proximity'].value_counts()\n",
    "sns.set(style=\"darkgrid\")\n",
    "sns.barplot(distance_count.index, distance_count.values, alpha=0.9)\n",
    "plt.title('Frequency Distribution of Ocean Proximity Column')\n",
    "plt.ylabel('Number of Occurrences', fontsize=12)\n",
    "plt.xlabel('Distance to Ocean', fontsize=12)\n",
    "plt.show()\n"
   ]
  },
  {
   "cell_type": "code",
   "execution_count": 32,
   "id": "44479493-e008-4a76-972b-5c2e63a3b5a4",
   "metadata": {},
   "outputs": [
    {
     "data": {
      "image/png": "[encoded data removed]",
      "text/plain": [
       "<Figure size 432x288 with 1 Axes>"
      ]
     },
     "metadata": {},
     "output_type": "display_data"
    }
   ],
   "source": [
    "# Ocean_proximity sütununun pasta grafiği gösterimi\n",
    "labels = konut['ocean_proximity'].astype('category').cat.categories.tolist()\n",
    "counts =  konut['ocean_proximity'].value_counts()\n",
    "sizes = [counts[var_cat] for var_cat in labels]\n",
    "fig1, ax1 = plt.subplots()\n",
    "ax1.pie(sizes, labels=labels, autopct='%1.1f%%', shadow=True) #autopct is show the % on plot\n",
    "ax1.axis('equal')\n",
    "plt.show()"
   ]
  },
  {
   "cell_type": "code",
   "execution_count": 33,
   "id": "4eba1f34-f040-4b44-adf2-00adbf9f9365",
   "metadata": {},
   "outputs": [
    {
     "name": "stdout",
     "output_type": "stream",
     "text": [
      "<1H OCEAN     9136\n",
      "INLAND        6551\n",
      "NEAR OCEAN    2658\n",
      "NEAR BAY      2290\n",
      "ISLAND           5\n",
      "Name: ocean_proximity, dtype: int64\n"
     ]
    }
   ],
   "source": [
    "# Ocean_proximity sütunlarındaki her özellik için değer sayısı\n",
    "print(konut['ocean_proximity'].value_counts())"
   ]
  },
  {
   "cell_type": "markdown",
   "id": "2e1c66a0-933b-4c69-ac9e-7beaa6213446",
   "metadata": {},
   "source": [
    "Ocean_proximity sütununda sadece 5 özelliğimiz olduğundan ve bu özelliklerin yorumlanması kolay olduğundan, bunları istenen sayısal değerlerle değiştirebiliriz. Bu durumda onları okyanusa olan uzaklıklarına göre puanlayacağız.\n",
    "Yerleşimimiz şöyle görünecek;\n",
    "\n",
    "\n",
    "- INLAND < 1H TO OCEAN < NEAR_BAY < NEAR_OCEAN < ISLAND"
   ]
  },
  {
   "cell_type": "markdown",
   "id": "e4be8dfc-2e2c-4e3b-9277-41a30699c047",
   "metadata": {},
   "source": [
    "> # Kategorik değerleri işleme\n",
    "\n",
    "Kodladığımız özellikleri ve karşılık gelen değerleri içeren bir sözlük oluşturacağız."
   ]
  },
  {
   "cell_type": "code",
   "execution_count": 34,
   "id": "6a959924-6c28-4608-bc9c-c408fc78b9ad",
   "metadata": {},
   "outputs": [],
   "source": [
    "replace_map = {'ocean_proximity': {'<1H OCEAN': 2, 'INLAND': 1, 'NEAR OCEAN': 4, 'NEAR BAY': 3,\n",
    "                                  'ISLAND': 5}}\n"
   ]
  },
  {
   "cell_type": "code",
   "execution_count": 37,
   "id": "573ad81b-f7f9-4a56-9024-7e3aec5f01a4",
   "metadata": {},
   "outputs": [
    {
     "data": {
      "text/html": [
       "<div>\n",
       "<style scoped>\n",
       "    .dataframe tbody tr th:only-of-type {\n",
       "        vertical-align: middle;\n",
       "    }\n",
       "\n",
       "    .dataframe tbody tr th {\n",
       "        vertical-align: top;\n",
       "    }\n",
       "\n",
       "    .dataframe thead th {\n",
       "        text-align: right;\n",
       "    }\n",
       "</style>\n",
       "<table border=\"1\" class=\"dataframe\">\n",
       "  <thead>\n",
       "    <tr style=\"text-align: right;\">\n",
       "      <th></th>\n",
       "      <th>longitude</th>\n",
       "      <th>latitude</th>\n",
       "      <th>housing_median_age</th>\n",
       "      <th>total_rooms</th>\n",
       "      <th>total_bedrooms</th>\n",
       "      <th>population</th>\n",
       "      <th>households</th>\n",
       "      <th>median_income</th>\n",
       "      <th>median_house_value</th>\n",
       "      <th>ocean_proximity</th>\n",
       "    </tr>\n",
       "  </thead>\n",
       "  <tbody>\n",
       "    <tr>\n",
       "      <th>0</th>\n",
       "      <td>-122.23</td>\n",
       "      <td>37.88</td>\n",
       "      <td>41.0</td>\n",
       "      <td>880.0</td>\n",
       "      <td>129.0</td>\n",
       "      <td>322.0</td>\n",
       "      <td>126.0</td>\n",
       "      <td>8.3252</td>\n",
       "      <td>452600.0</td>\n",
       "      <td>3</td>\n",
       "    </tr>\n",
       "    <tr>\n",
       "      <th>1</th>\n",
       "      <td>-122.22</td>\n",
       "      <td>37.86</td>\n",
       "      <td>21.0</td>\n",
       "      <td>7099.0</td>\n",
       "      <td>1106.0</td>\n",
       "      <td>2401.0</td>\n",
       "      <td>1138.0</td>\n",
       "      <td>8.3014</td>\n",
       "      <td>358500.0</td>\n",
       "      <td>3</td>\n",
       "    </tr>\n",
       "    <tr>\n",
       "      <th>2</th>\n",
       "      <td>-122.24</td>\n",
       "      <td>37.85</td>\n",
       "      <td>52.0</td>\n",
       "      <td>1467.0</td>\n",
       "      <td>190.0</td>\n",
       "      <td>496.0</td>\n",
       "      <td>177.0</td>\n",
       "      <td>7.2574</td>\n",
       "      <td>352100.0</td>\n",
       "      <td>3</td>\n",
       "    </tr>\n",
       "    <tr>\n",
       "      <th>3</th>\n",
       "      <td>-122.25</td>\n",
       "      <td>37.85</td>\n",
       "      <td>52.0</td>\n",
       "      <td>1274.0</td>\n",
       "      <td>235.0</td>\n",
       "      <td>558.0</td>\n",
       "      <td>219.0</td>\n",
       "      <td>5.6431</td>\n",
       "      <td>341300.0</td>\n",
       "      <td>3</td>\n",
       "    </tr>\n",
       "    <tr>\n",
       "      <th>4</th>\n",
       "      <td>-122.25</td>\n",
       "      <td>37.85</td>\n",
       "      <td>52.0</td>\n",
       "      <td>1627.0</td>\n",
       "      <td>280.0</td>\n",
       "      <td>565.0</td>\n",
       "      <td>259.0</td>\n",
       "      <td>3.8462</td>\n",
       "      <td>342200.0</td>\n",
       "      <td>3</td>\n",
       "    </tr>\n",
       "  </tbody>\n",
       "</table>\n",
       "</div>"
      ],
      "text/plain": [
       "   longitude  latitude  housing_median_age  total_rooms  total_bedrooms  \\\n",
       "0    -122.23     37.88                41.0        880.0           129.0   \n",
       "1    -122.22     37.86                21.0       7099.0          1106.0   \n",
       "2    -122.24     37.85                52.0       1467.0           190.0   \n",
       "3    -122.25     37.85                52.0       1274.0           235.0   \n",
       "4    -122.25     37.85                52.0       1627.0           280.0   \n",
       "\n",
       "   population  households  median_income  median_house_value  ocean_proximity  \n",
       "0       322.0       126.0         8.3252            452600.0                3  \n",
       "1      2401.0      1138.0         8.3014            358500.0                3  \n",
       "2       496.0       177.0         7.2574            352100.0                3  \n",
       "3       558.0       219.0         5.6431            341300.0                3  \n",
       "4       565.0       259.0         3.8462            342200.0                3  "
      ]
     },
     "execution_count": 37,
     "metadata": {},
     "output_type": "execute_result"
    }
   ],
   "source": [
    "konut_replace = konut.copy()\n",
    "konut_replace.replace(replace_map, inplace=True)\n",
    "konut_replace.head()"
   ]
  },
  {
   "cell_type": "markdown",
   "id": "61228797-3176-496c-920c-8e55a3c7d5b4",
   "metadata": {},
   "source": [
    "> # Aykırı Değerleri Ele Alma\n",
    "\n",
    "Aykırı değerleri Z-skoru kullanarak tespit ediyoruz, kriterimiz Z-skoru 3. standart sapmanın dışında kalan herhangi bir veri noktasının aykırı olmasıdır.\n",
    "z-skoru kullanarak aykırı değerleri hesaplama adımları;\n",
    "\n",
    "- (x-ortalama)/std formülünü kullanarak Z-skorunu hesaplayın.\n",
    "- 3 eşik değeri tanımlayın ve Z-skoru mutlak değeri eşikten büyük olan veri noktalarını aykırı değer olarak işaretleyin.\n",
    "\n",
    "Aykırı değerleri bulduğumuzda, onlarla nasıl başa çıkacağımızı düşünürüz. Aykırı değerleri değiştirmek için birkaç teknik vardır, ancak medyan değerlendirme yöntemini kullanacağız. Medyan atamayı kullanmamızın nedeni, medyan yönteminin ortalama yöntem gibi aykırı değerlerin varlığından etkilenmemesidir."
   ]
  },
  {
   "cell_type": "code",
   "execution_count": 38,
   "id": "d111e7a6-52b0-4345-bfa3-1e91cbf3f288",
   "metadata": {},
   "outputs": [],
   "source": [
    "def detect_outliers_zscore(data):\n",
    "    outliers = []\n",
    "    thres = 3\n",
    "    mean = np.mean(data)\n",
    "    std = np.std(data)\n",
    "    # print(mean, std)\n",
    "    for i in data:\n",
    "        z_score = (i-mean)/std\n",
    "        if (np.abs(z_score) > thres):\n",
    "            outliers.append(i)\n",
    "    return outliers# sürücü kodu"
   ]
  },
  {
   "cell_type": "code",
   "execution_count": 39,
   "id": "b44fe219-ba3c-4923-949c-74de7708b48f",
   "metadata": {},
   "outputs": [],
   "source": [
    "sample_outliers = []\n",
    "# (len - 1) aldık çünkü kategorik değerlerde aykırı değerler aramak istemiyoruz.\n",
    "for i in range(len(konut_replace.count()) - 1):\n",
    "    sample_outliers.append(detect_outliers_zscore(konut_replace.iloc[:,i]))"
   ]
  },
  {
   "cell_type": "code",
   "execution_count": 40,
   "id": "7fb6857d-1d76-445e-9608-3d77b0d2223d",
   "metadata": {},
   "outputs": [],
   "source": [
    "def replace_outliers(data, sample_index):\n",
    "    median = np.median(data)\n",
    "    index = 0\n",
    "    if len(sample_outliers[sample_index]) == 0: # numunede aykırı değer yoksa döner\n",
    "        return\n",
    "    for (i, v) in data.iteritems():\n",
    "        if sample_outliers[sample_index][index] == v:\n",
    "            data[i] = median\n",
    "            if index < len(sample_outliers[sample_index]) - 1:\n",
    "                index +=1"
   ]
  },
  {
   "cell_type": "code",
   "execution_count": 41,
   "id": "1eea41a6-e6a3-4378-8707-540676b197fb",
   "metadata": {},
   "outputs": [],
   "source": [
    "konut_outliers = konut_replace.copy() # Veri çerçevemizi kopyalıyoruz ve aykırı değerleri bu yeni veri çerçevesinde değiştiriyoruz.\n",
    "for i in range(len(sample_outliers)):\n",
    "    replace_outliers(konut_outliers.iloc[:,i], i)"
   ]
  },
  {
   "cell_type": "markdown",
   "id": "112fcac1-ffcc-4479-9783-ae609ef6a0cf",
   "metadata": {},
   "source": [
    "- Veri kümesinin ortalamasının aykırı değerlerden etkilendiğini biliyoruz, aykırı değerlerin veri kümemiz üzerindeki etkisini kontrol edelim. Bunun için aykırı değeri olan ve olmayan sütunların ortalamasını alalım."
   ]
  },
  {
   "cell_type": "code",
   "execution_count": 42,
   "id": "3082fd83-43f5-44a3-9bf1-d55ac9ee9e6c",
   "metadata": {},
   "outputs": [
    {
     "data": {
      "text/html": [
       "<div>\n",
       "<style scoped>\n",
       "    .dataframe tbody tr th:only-of-type {\n",
       "        vertical-align: middle;\n",
       "    }\n",
       "\n",
       "    .dataframe tbody tr th {\n",
       "        vertical-align: top;\n",
       "    }\n",
       "\n",
       "    .dataframe thead th {\n",
       "        text-align: right;\n",
       "    }\n",
       "</style>\n",
       "<table border=\"1\" class=\"dataframe\">\n",
       "  <thead>\n",
       "    <tr style=\"text-align: right;\">\n",
       "      <th></th>\n",
       "      <th>Mean with outliers</th>\n",
       "      <th>Mean without outliers</th>\n",
       "    </tr>\n",
       "  </thead>\n",
       "  <tbody>\n",
       "    <tr>\n",
       "      <th>longitude</th>\n",
       "      <td>-119.569704</td>\n",
       "      <td>-119.569704</td>\n",
       "    </tr>\n",
       "    <tr>\n",
       "      <th>latitude</th>\n",
       "      <td>35.631861</td>\n",
       "      <td>35.631861</td>\n",
       "    </tr>\n",
       "    <tr>\n",
       "      <th>housing_median_age</th>\n",
       "      <td>28.639486</td>\n",
       "      <td>28.639486</td>\n",
       "    </tr>\n",
       "    <tr>\n",
       "      <th>total_rooms</th>\n",
       "      <td>2635.763081</td>\n",
       "      <td>2432.444380</td>\n",
       "    </tr>\n",
       "    <tr>\n",
       "      <th>total_bedrooms</th>\n",
       "      <td>537.591279</td>\n",
       "      <td>499.616231</td>\n",
       "    </tr>\n",
       "    <tr>\n",
       "      <th>population</th>\n",
       "      <td>1425.476744</td>\n",
       "      <td>1330.515068</td>\n",
       "    </tr>\n",
       "    <tr>\n",
       "      <th>households</th>\n",
       "      <td>499.539680</td>\n",
       "      <td>465.958285</td>\n",
       "    </tr>\n",
       "    <tr>\n",
       "      <th>median_income</th>\n",
       "      <td>3.870671</td>\n",
       "      <td>3.735332</td>\n",
       "    </tr>\n",
       "    <tr>\n",
       "      <th>median_house_value</th>\n",
       "      <td>206855.816909</td>\n",
       "      <td>206855.816909</td>\n",
       "    </tr>\n",
       "    <tr>\n",
       "      <th>ocean_proximity</th>\n",
       "      <td>2.051841</td>\n",
       "      <td>2.051841</td>\n",
       "    </tr>\n",
       "  </tbody>\n",
       "</table>\n",
       "</div>"
      ],
      "text/plain": [
       "                    Mean with outliers  Mean without outliers\n",
       "longitude                  -119.569704            -119.569704\n",
       "latitude                     35.631861              35.631861\n",
       "housing_median_age           28.639486              28.639486\n",
       "total_rooms                2635.763081            2432.444380\n",
       "total_bedrooms              537.591279             499.616231\n",
       "population                 1425.476744            1330.515068\n",
       "households                  499.539680             465.958285\n",
       "median_income                 3.870671               3.735332\n",
       "median_house_value       206855.816909          206855.816909\n",
       "ocean_proximity               2.051841               2.051841"
      ]
     },
     "execution_count": 42,
     "metadata": {},
     "output_type": "execute_result"
    }
   ],
   "source": [
    "# Aykırı değerleri olan ve olmayan sütunların ortalaması\n",
    "df = pd.DataFrame(konut_replace.mean() , columns=['Mean with outliers'])\n",
    "df['Mean without outliers'] = konut_outliers.mean()\n",
    "\n",
    "df"
   ]
  },
  {
   "cell_type": "markdown",
   "id": "092dccfe-76eb-48a4-982f-6522fd3e8b31",
   "metadata": {},
   "source": [
    "- Veri setinin medyanının aykırı değerlerden pek etkilenmediğini biliyoruz, hadi aykırı değerlerin veri setimiz üzerindeki etkisini kontrol edelim. Bunun için aykırı değeri olan ve olmayan sütunların medyanını alalım."
   ]
  },
  {
   "cell_type": "code",
   "execution_count": 43,
   "id": "31310c09-11bc-4ed8-94b2-39a13f2a41fa",
   "metadata": {},
   "outputs": [
    {
     "data": {
      "text/html": [
       "<div>\n",
       "<style scoped>\n",
       "    .dataframe tbody tr th:only-of-type {\n",
       "        vertical-align: middle;\n",
       "    }\n",
       "\n",
       "    .dataframe tbody tr th {\n",
       "        vertical-align: top;\n",
       "    }\n",
       "\n",
       "    .dataframe thead th {\n",
       "        text-align: right;\n",
       "    }\n",
       "</style>\n",
       "<table border=\"1\" class=\"dataframe\">\n",
       "  <thead>\n",
       "    <tr style=\"text-align: right;\">\n",
       "      <th></th>\n",
       "      <th>Median with outliers</th>\n",
       "      <th>Median without outliers</th>\n",
       "    </tr>\n",
       "  </thead>\n",
       "  <tbody>\n",
       "    <tr>\n",
       "      <th>longitude</th>\n",
       "      <td>-118.4900</td>\n",
       "      <td>-118.49000</td>\n",
       "    </tr>\n",
       "    <tr>\n",
       "      <th>latitude</th>\n",
       "      <td>34.2600</td>\n",
       "      <td>34.26000</td>\n",
       "    </tr>\n",
       "    <tr>\n",
       "      <th>housing_median_age</th>\n",
       "      <td>29.0000</td>\n",
       "      <td>29.00000</td>\n",
       "    </tr>\n",
       "    <tr>\n",
       "      <th>total_rooms</th>\n",
       "      <td>2127.0000</td>\n",
       "      <td>2127.00000</td>\n",
       "    </tr>\n",
       "    <tr>\n",
       "      <th>total_bedrooms</th>\n",
       "      <td>435.0000</td>\n",
       "      <td>435.00000</td>\n",
       "    </tr>\n",
       "    <tr>\n",
       "      <th>population</th>\n",
       "      <td>1166.0000</td>\n",
       "      <td>1166.00000</td>\n",
       "    </tr>\n",
       "    <tr>\n",
       "      <th>households</th>\n",
       "      <td>409.0000</td>\n",
       "      <td>409.00000</td>\n",
       "    </tr>\n",
       "    <tr>\n",
       "      <th>median_income</th>\n",
       "      <td>3.5348</td>\n",
       "      <td>3.53475</td>\n",
       "    </tr>\n",
       "    <tr>\n",
       "      <th>median_house_value</th>\n",
       "      <td>179700.0000</td>\n",
       "      <td>179700.00000</td>\n",
       "    </tr>\n",
       "    <tr>\n",
       "      <th>ocean_proximity</th>\n",
       "      <td>2.0000</td>\n",
       "      <td>2.00000</td>\n",
       "    </tr>\n",
       "  </tbody>\n",
       "</table>\n",
       "</div>"
      ],
      "text/plain": [
       "                    Median with outliers  Median without outliers\n",
       "longitude                      -118.4900               -118.49000\n",
       "latitude                         34.2600                 34.26000\n",
       "housing_median_age               29.0000                 29.00000\n",
       "total_rooms                    2127.0000               2127.00000\n",
       "total_bedrooms                  435.0000                435.00000\n",
       "population                     1166.0000               1166.00000\n",
       "households                      409.0000                409.00000\n",
       "median_income                     3.5348                  3.53475\n",
       "median_house_value           179700.0000             179700.00000\n",
       "ocean_proximity                   2.0000                  2.00000"
      ]
     },
     "execution_count": 43,
     "metadata": {},
     "output_type": "execute_result"
    }
   ],
   "source": [
    "# Aykırı değerleri olan ve olmayan sütunların medyanı\n",
    "df = pd.DataFrame(konut_replace.median() , columns=['Median with outliers'])\n",
    "df['Median without outliers'] = konut_outliers.median()\n",
    "df\n"
   ]
  },
  {
   "cell_type": "markdown",
   "id": "fad1d741-3735-48e6-9fd1-8a2f06868b07",
   "metadata": {},
   "source": [
    "Çeyrekler arası aralığı (IQR) kullanarak aykırı değerleri de tespit edebiliriz.\n",
    "IQR uygulama adımları;\n",
    "\n",
    "- verileri sıralama\n",
    "- Q1 ve Q3'ü hesaplayın\n",
    "- IQR'yi Bul (Q3 - Q1)\n",
    "- Alt sınırı bulun (Q1 - 1,5 * IQR)\n",
    "- Üst sınırı bulun (Q3 + 1,5 * IQR)"
   ]
  },
  {
   "cell_type": "code",
   "execution_count": 44,
   "id": "d0c5f0ba-f132-4cf1-a00a-ead0a41a1c2e",
   "metadata": {},
   "outputs": [
    {
     "data": {
      "text/plain": [
       "<AxesSubplot:xlabel='median_house_value'>"
      ]
     },
     "execution_count": 44,
     "metadata": {},
     "output_type": "execute_result"
    },
    {
     "data": {
      "image/png": "[encoded data removed]",
      "text/plain": [
       "<Figure size 432x288 with 1 Axes>"
      ]
     },
     "metadata": {},
     "output_type": "display_data"
    }
   ],
   "source": [
    "def detect_outliers_iqr(dataset):\n",
    "    \n",
    "    outliers = []\n",
    "    dataset = sorted(dataset)\n",
    "    q1,q3 = np.percentile(dataset, [25,75])\n",
    "    iqr = q3 - q1\n",
    "    lower_fence = q1 - (1.5 * iqr)\n",
    "    upper_fence = q3 + (1.5 * iqr)\n",
    "    \n",
    "    for elem in dataset:\n",
    "        if elem < lower_fence or elem > upper_fence:\n",
    "            outliers.append(elem)\n",
    "    return outliers\n",
    "\n",
    "# Aykırı değerlerin görselleştirilmesi için kutu çizimleri kullanabiliriz\n",
    "import seaborn as sns\n",
    "\n",
    "sns.boxplot(konut['median_house_value'])"
   ]
  },
  {
   "cell_type": "markdown",
   "id": "653d1d2d-d47e-4beb-a047-dafd196a0d98",
   "metadata": {},
   "source": [
    "> # Model Seçimi\n",
    "\n",
    "Doğru modeli seçmek için kendimize amacımızın ne olduğunu sormalıyız. Sorunun belirlenmesi ve buna göre stratejilerin oluşturulması doğru modelin seçilmesi için çok önemlidir. Problemimizde Kaliforniya'daki ev fiyatlarını tahmin etmemiz isteniyor. Bunun bir Regresyon problemi olduğunu görebiliriz, çünkü görevimiz sürekli bir çıktı değişkenini girdi değişkenlerinden (X) bir eşleştirme fonksiyonuna (f) yaklaştırmaktır.\n",
    "Tamam, sorunu belirledik, bundan sonra ne yapacağız? Problemi tanımladığımız için, amacımız için farklı algoritmalar arayabiliriz. Bu projede Rastgele Orman Regresyon modelini kullanacağız çünkü araştırmalardan elde edilen sonuçlar, rastgele orman regresyon modelinin şimdiye kadarki en iyi sonuçları verdiğini gösteriyor.\n",
    "\n",
    "Modelimiz olarak bilim seti rastgele orman regresörünü kullanacağız. Veri setini tren, doğrulama ve test olarak bölmemeyi tercih ettim. Nedeni, doğrulama setini kullanan modelimiz olarak rastgele ormanı kullandığımız için zorunlu değildir. Ayrıca veri kümemiz küçüktür, bu nedenle eğitim kümesindeki hiper parametrenin ince ayarlanması büyük bir sorun olmayacaktır.\n",
    "\n",
    "bilim seti rastgele orman regresörü uygulama adımları;\n",
    "\n",
    "- Özniteliklere ve etiket kümelerine bölmek için veri kümesindeki sütunları yeniden düzenleyin.\n",
    "- Veri kümesini test ve tren olarak ayır\n",
    "- Veri kümesini ölçeklendirin (Rastgele orman kullandığımız için isteğe bağlıdır)\n",
    "- Tren modeli\n",
    "- Modelin tren ve test puanını hesaplayın\n",
    "- Daha iyi doğruluk elde etmek için hiperparametrelerde ince ayar yapın"
   ]
  },
  {
   "cell_type": "code",
   "execution_count": 45,
   "id": "a47834bc-567d-40be-9d13-cbc10b09a2bd",
   "metadata": {},
   "outputs": [
    {
     "data": {
      "text/html": [
       "<div>\n",
       "<style scoped>\n",
       "    .dataframe tbody tr th:only-of-type {\n",
       "        vertical-align: middle;\n",
       "    }\n",
       "\n",
       "    .dataframe tbody tr th {\n",
       "        vertical-align: top;\n",
       "    }\n",
       "\n",
       "    .dataframe thead th {\n",
       "        text-align: right;\n",
       "    }\n",
       "</style>\n",
       "<table border=\"1\" class=\"dataframe\">\n",
       "  <thead>\n",
       "    <tr style=\"text-align: right;\">\n",
       "      <th></th>\n",
       "      <th>longitude</th>\n",
       "      <th>latitude</th>\n",
       "      <th>housing_median_age</th>\n",
       "      <th>total_rooms</th>\n",
       "      <th>total_bedrooms</th>\n",
       "      <th>population</th>\n",
       "      <th>households</th>\n",
       "      <th>median_income</th>\n",
       "      <th>ocean_proximity</th>\n",
       "      <th>median_house_value</th>\n",
       "    </tr>\n",
       "  </thead>\n",
       "  <tbody>\n",
       "    <tr>\n",
       "      <th>0</th>\n",
       "      <td>-122.23</td>\n",
       "      <td>37.88</td>\n",
       "      <td>41.0</td>\n",
       "      <td>880.0</td>\n",
       "      <td>129.0</td>\n",
       "      <td>322.0</td>\n",
       "      <td>126.0</td>\n",
       "      <td>8.3252</td>\n",
       "      <td>3</td>\n",
       "      <td>452600.0</td>\n",
       "    </tr>\n",
       "    <tr>\n",
       "      <th>1</th>\n",
       "      <td>-122.22</td>\n",
       "      <td>37.86</td>\n",
       "      <td>21.0</td>\n",
       "      <td>7099.0</td>\n",
       "      <td>1106.0</td>\n",
       "      <td>2401.0</td>\n",
       "      <td>1138.0</td>\n",
       "      <td>8.3014</td>\n",
       "      <td>3</td>\n",
       "      <td>358500.0</td>\n",
       "    </tr>\n",
       "    <tr>\n",
       "      <th>2</th>\n",
       "      <td>-122.24</td>\n",
       "      <td>37.85</td>\n",
       "      <td>52.0</td>\n",
       "      <td>1467.0</td>\n",
       "      <td>190.0</td>\n",
       "      <td>496.0</td>\n",
       "      <td>177.0</td>\n",
       "      <td>7.2574</td>\n",
       "      <td>3</td>\n",
       "      <td>352100.0</td>\n",
       "    </tr>\n",
       "    <tr>\n",
       "      <th>3</th>\n",
       "      <td>-122.25</td>\n",
       "      <td>37.85</td>\n",
       "      <td>52.0</td>\n",
       "      <td>1274.0</td>\n",
       "      <td>235.0</td>\n",
       "      <td>558.0</td>\n",
       "      <td>219.0</td>\n",
       "      <td>5.6431</td>\n",
       "      <td>3</td>\n",
       "      <td>341300.0</td>\n",
       "    </tr>\n",
       "    <tr>\n",
       "      <th>4</th>\n",
       "      <td>-122.25</td>\n",
       "      <td>37.85</td>\n",
       "      <td>52.0</td>\n",
       "      <td>1627.0</td>\n",
       "      <td>280.0</td>\n",
       "      <td>565.0</td>\n",
       "      <td>259.0</td>\n",
       "      <td>3.8462</td>\n",
       "      <td>3</td>\n",
       "      <td>342200.0</td>\n",
       "    </tr>\n",
       "  </tbody>\n",
       "</table>\n",
       "</div>"
      ],
      "text/plain": [
       "   longitude  latitude  housing_median_age  total_rooms  total_bedrooms  \\\n",
       "0    -122.23     37.88                41.0        880.0           129.0   \n",
       "1    -122.22     37.86                21.0       7099.0          1106.0   \n",
       "2    -122.24     37.85                52.0       1467.0           190.0   \n",
       "3    -122.25     37.85                52.0       1274.0           235.0   \n",
       "4    -122.25     37.85                52.0       1627.0           280.0   \n",
       "\n",
       "   population  households  median_income  ocean_proximity  median_house_value  \n",
       "0       322.0       126.0         8.3252                3            452600.0  \n",
       "1      2401.0      1138.0         8.3014                3            358500.0  \n",
       "2       496.0       177.0         7.2574                3            352100.0  \n",
       "3       558.0       219.0         5.6431                3            341300.0  \n",
       "4       565.0       259.0         3.8462                3            342200.0  "
      ]
     },
     "execution_count": 45,
     "metadata": {},
     "output_type": "execute_result"
    }
   ],
   "source": [
    "# Veri kümesindeki verilerin sırasını yeniden düzenleme\n",
    "cols = ['longitude', 'latitude', 'housing_median_age','total_rooms', 'total_bedrooms', \n",
    "        'population', 'households', 'median_income', 'ocean_proximity', 'median_house_value' ]\n",
    "\n",
    "dataset = konut_outliers.copy()\n",
    "dataset = dataset[cols]\n",
    "\n",
    "dataset.head()"
   ]
  },
  {
   "cell_type": "code",
   "execution_count": 46,
   "id": "8e1aa7c6-00e3-4d24-a0fd-ffcf4dc3f577",
   "metadata": {},
   "outputs": [],
   "source": [
    "# Veri kümesini niteliklere ve etiket kümelerine bölme\n",
    "X = dataset.iloc[:, 0:9].values\n",
    "y = dataset.iloc[:, 9].values"
   ]
  },
  {
   "cell_type": "code",
   "execution_count": 47,
   "id": "86dbfc9d-267e-474c-8f4d-dfd2df907138",
   "metadata": {},
   "outputs": [],
   "source": [
    "from sklearn.model_selection import train_test_split\n",
    "\n",
    "\n",
    "# Veri kümesini test ve tren olarak ayır\n",
    "X_train, X_test, y_train, y_test = train_test_split(X, y, test_size=0.2, random_state=1)"
   ]
  },
  {
   "cell_type": "code",
   "execution_count": 48,
   "id": "b1b999e2-bfae-408b-a2a9-6e5d08ee03d9",
   "metadata": {},
   "outputs": [],
   "source": [
    "from sklearn.preprocessing import StandardScaler\n",
    "\n",
    "# Veri setimizde her sütunun farklı temsil ölçeği vardır, bu bazı algoritmalarda soruna neden olabilir\n",
    "# Bunu önlemek için veri setimizi ölçeklendiriyoruz\n",
    "\n",
    "sc = StandardScaler()\n",
    "X_train = sc.fit_transform(X_train)\n",
    "X_test = sc.transform(X_test)"
   ]
  },
  {
   "cell_type": "code",
   "execution_count": 49,
   "id": "54033315-53ef-4670-8f05-9dc5aebd4be6",
   "metadata": {},
   "outputs": [
    {
     "name": "stdout",
     "output_type": "stream",
     "text": [
      "Run time : 4.138814210891724\n"
     ]
    }
   ],
   "source": [
    "import time\n",
    "from sklearn.ensemble import RandomForestRegressor\n",
    "\n",
    "time_start = time.time()\n",
    "\n",
    "# eğitim modeli\n",
    "regressor = RandomForestRegressor(n_estimators=100, max_features = 0.5)\n",
    "regressor.fit(X_train, y_train)\n",
    "y_pred = regressor.predict(X_test)\n",
    "\n",
    "time_end = time.time() # Modelin çalışma süresini tahmin etme\n",
    "print(f'Run time : {time_end - time_start}')"
   ]
  },
  {
   "cell_type": "code",
   "execution_count": 50,
   "id": "78cf15b1-1617-4a77-a7a5-60c8d1589abe",
   "metadata": {},
   "outputs": [
    {
     "name": "stdout",
     "output_type": "stream",
     "text": [
      "Training score:  0.9746024101641293\n",
      "Testing score:   0.8229201276638406\n",
      "Root Mean Squared Error: 48194.81788765576\n"
     ]
    }
   ],
   "source": [
    "from sklearn import metrics\n",
    "\n",
    "print('Training score: ', regressor.score(X_train, y_train))\n",
    "print('Testing score:  ', regressor.score(X_test, y_test))\n",
    "print('Root Mean Squared Error:', np.sqrt(metrics.mean_squared_error(y_test, y_pred)))"
   ]
  }
 ],
 "metadata": {
  "kernelspec": {
   "display_name": "Python 3 (ipykernel)",
   "language": "python",
   "name": "python3"
  },
  "language_info": {
   "codemirror_mode": {
    "name": "ipython",
    "version": 3
   },
   "file_extension": ".py",
   "mimetype": "text/x-python",
   "name": "python",
   "nbconvert_exporter": "python",
   "pygments_lexer": "ipython3",
   "version": "3.9.12"
  }
 },
 "nbformat": 4,
 "nbformat_minor": 5
}
